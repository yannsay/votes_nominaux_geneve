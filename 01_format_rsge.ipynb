{
 "cells": [
  {
   "cell_type": "code",
   "execution_count": 1,
   "metadata": {},
   "outputs": [],
   "source": [
    "import pandas as pd"
   ]
  },
  {
   "cell_type": "code",
   "execution_count": 2,
   "metadata": {},
   "outputs": [],
   "source": [
    "rsge = pd.read_excel(\"inputs/Recueil systématique genevois rsGE.xlsx\")"
   ]
  },
  {
   "cell_type": "code",
   "execution_count": 3,
   "metadata": {},
   "outputs": [
    {
     "data": {
      "application/vnd.microsoft.datawrangler.viewer.v0+json": {
       "columns": [
        {
         "name": "index",
         "rawType": "int64",
         "type": "integer"
        },
        {
         "name": "Référence",
         "rawType": "object",
         "type": "unknown"
        },
        {
         "name": "Intitulé",
         "rawType": "object",
         "type": "unknown"
        },
        {
         "name": "Date d’adoption",
         "rawType": "object",
         "type": "unknown"
        }
       ],
       "conversionMethod": "pd.DataFrame",
       "ref": "84c7c834-251c-4537-b604-890377e08af7",
       "rows": [
        [
         "0",
         "A",
         "Structure cantonale et principes fondamentaux",
         null
        ],
        [
         "1",
         "A 1",
         "Territoire, lien à la Confédération",
         null
        ],
        [
         "2",
         "A 1 01",
         "Acte d’union de la République de Genève à la Confédération suisse (AcU-GE-CH)",
         "19.05.1815"
        ],
        [
         "3",
         "A 1 02",
         "Traité entre Sa Majesté très chrestienne et la Republique de Geneve (Tr-F-GE)",
         "15.08.1749"
        ],
        [
         "4",
         "A 1 03",
         "Extrait du Procès-verbal de la délimitation entre le territoire du royaume de France et celui du canton de Genève (PVDT-F-GE)",
         "20.07.1825"
        ],
        [
         "5",
         "A 1 04",
         "Extrait du Procès-verbal de délimitation du territoire de Céligny (PVDT-Cél)",
         "05.10.1726"
        ],
        [
         "6",
         "A 1 05",
         "Protocole du Congrès de Vienne (territoire cédé au canton de Genève) (PC-Vienne-1)",
         "29.03.1815"
        ],
        [
         "7",
         "A 1 06",
         "Protocole du Congrès de Vienne (relatif à la neutralisation du Chablais et du Faucigny) (PC-Vienne-2)",
         "29.03.1815"
        ],
        [
         "8",
         "A 1 07",
         "Traité de Turin entre Sa Majesté le roi de Sardaigne, la Confédération suisse et le canton de Genève (TrTurin)",
         "16.03.1816"
        ],
        [
         "9",
         "A 1 08",
         "Convention pour le partage des biens appartenant aux communes dont une partie seulement a été cédée à la Suisse par S. M. le roi de Sardaigne, d’après le traité du 16 mars 1816 (Cpart)",
         "11.05.1834"
        ],
        [
         "10",
         "A 1 09",
         "Frontière Vaud-Genève ou Traité de Lausanne (TrLausanne)",
         "30.10.1564"
        ],
        [
         "11",
         "A 1 10",
         "Convention entre la Suisse et la France sur la détermination de la frontière dans le lac Léman (CDFLéman)",
         "25.02.1953"
        ],
        [
         "12",
         "A 1 11",
         "Accord de Karlsruhe sur la coopération transfrontalière entre les collectivités territoriales et organismes publics locaux (AKCT)",
         "23.01.1996"
        ],
        [
         "13",
         "A 1 11.0",
         "Loi ratifiant l’extension au canton de Genève de l’accord de Karlsruhe sur la coopération transfrontalière entre les collectivités territoriales et organismes publics locaux (L-AKCT)",
         "22.04.2004"
        ],
        [
         "14",
         "A 1 12",
         "Loi relative aux organismes de coopération transfrontalière (LOCT)",
         "14.11.2008"
        ],
        [
         "15",
         "A 1 13",
         "Convention instituant le Groupement local de coopération transfrontalière « Projet d’agglomération franco-valdo-genevois », en vue d’en assurer la gouvernance (CAgglo)",
         "01.12.2011"
        ],
        [
         "16",
         "A 1 13.0",
         "Loi approuvant la création du Groupement local de coopération transfrontalière « Projet d’agglomération franco-valdo-genevois » (L‑CAgglo)",
         "01.12.2011"
        ],
        [
         "17",
         "A 2",
         "Constitution et principes généraux",
         null
        ],
        [
         "18",
         "A 2 00",
         "Constitution de la République et canton de Genève (Cst-GE)",
         "14.10.2012"
        ],
        [
         "19",
         "A 2 04",
         "Loi-cadre sur la répartition des tâches entre les communes et le canton (LRT)",
         "24.09.2015"
        ],
        [
         "20",
         "A 2 04.03",
         "Règlement sur le fonds de régulation dans le cadre de la réforme de la répartition des tâches entre les communes et le canton (RFRRT)",
         "24.08.2016"
        ],
        [
         "21",
         "A 2 05",
         "Loi sur la répartition des tâches entre les communes et le canton (1er train) (LRT-1)",
         "18.03.2016"
        ],
        [
         "22",
         "A 2 05.03",
         "Règlement sur les prestations de soutien aux personnes âgées délivrées par les communes, en application de la loi sur la répartition des tâches entre les communes et le canton (1er train) (RPSPA-LRT-1)",
         "19.10.2022"
        ],
        [
         "23",
         "A 2 07",
         "Loi sur la répartition des tâches entre les communes et le canton en matière de sport (3e train) (LRT-3)",
         "31.08.2017"
        ],
        [
         "24",
         "A 2 08",
         "Loi sur l’information du public, l’accès aux documents et la protection des données personnelles (LIPAD)",
         "05.10.2001"
        ],
        [
         "25",
         "A 2 08.01",
         "Règlement d’application de la loi sur l’information du public, l’accès aux documents et la protection des données personnelles (RIPAD)",
         "21.12.2011"
        ],
        [
         "26",
         "A 2 09",
         "Loi instituant les numéros d’identification personnels communs (LNIP)",
         "20.09.2013"
        ],
        [
         "27",
         "A 2 10",
         "Loi sur les effets et l’application des lois (LEAL)",
         "05.03.1803"
        ],
        [
         "28",
         "A 2 15",
         "Loi sur la prestation des serments (LSer)",
         "24.09.1965"
        ],
        [
         "29",
         "A 2 20",
         "Loi sur les commissions officielles (LCOf)",
         "18.09.2009"
        ],
        [
         "30",
         "A 2 20.01",
         "Règlement sur les commissions officielles (RCOf)",
         "10.03.2010"
        ],
        [
         "31",
         "A 2 24",
         "Loi sur l’organisation des institutions de droit public (LOIDP)",
         "22.09.2017"
        ],
        [
         "32",
         "A 2 24.01",
         "Règlement sur l’organisation des institutions de droit public (ROIDP)",
         "16.05.2018"
        ],
        [
         "33",
         "A 2 30",
         "Loi sur la computation des délais échéant un samedi (LDélais)",
         "22.06.1963"
        ],
        [
         "34",
         "A 2 35",
         "Loi concernant la législation expérimentale (LLExp)",
         "14.12.1995"
        ],
        [
         "35",
         "A 2 40",
         "Loi sur la responsabilité de l’Etat et des communes (LREC)",
         "24.02.1989"
        ],
        [
         "36",
         "A 2 55",
         "Loi sur l'intégration des étrangers (LIEtr)",
         "28.06.2001"
        ],
        [
         "37",
         "A 2 55.01",
         "Règlement d'application de la loi sur l'intégration des étrangers (RIEtr)",
         "12.09.2001"
        ],
        [
         "38",
         "A 2 60",
         "Loi sur l'action publique en vue d'un développement durable (Agenda 21) (LDD)",
         "12.05.2016"
        ],
        [
         "39",
         "A 2 65",
         "Loi sur les relations et le développement de la Genève internationale (LGI)",
         "02.12.2004"
        ],
        [
         "40",
         "A 2 70",
         "Loi relative à la politique de cohésion sociale en milieu urbain (LCSMU)",
         "19.04.2012"
        ],
        [
         "41",
         "A 2 70.01",
         "Règlement d’application de la loi relative à la politique de cohésion sociale en milieu urbain (RCSMU)",
         "20.03.2013"
        ],
        [
         "42",
         "A 2 75",
         "Loi sur la laïcité de l’Etat (LLE)",
         "26.04.2018"
        ],
        [
         "43",
         "A 2 75.01",
         "Règlement d’application de la loi sur la laïcité de l’Etat (RLE)",
         "17.06.2020"
        ],
        [
         "44",
         "A 2 80",
         "Loi sur la lutte contre la traite des êtres humains (LTEH)",
         "22.03.2019"
        ],
        [
         "45",
         "A 2 90",
         "Loi générale sur l’égalité et la lutte contre les discriminations (LED)",
         "23.03.2023"
        ],
        [
         "46",
         "A 2 91",
         "Loi sur l’égalité et la lutte contre les discriminations liées au sexe et au genre (LED-Genre)",
         "23.03.2023"
        ],
        [
         "47",
         "A 3",
         "Dénomination, armoiries et couleurs de l’Etat",
         null
        ],
        [
         "48",
         "A 3 01",
         "Loi sur la dénomination, les armoiries et les couleurs de l’Etat (LArm)",
         "10.08.1815"
        ],
        [
         "49",
         "A 4",
         "Nationalité",
         null
        ]
       ],
       "shape": {
        "columns": 3,
        "rows": 927
       }
      },
      "text/html": [
       "<div>\n",
       "<style scoped>\n",
       "    .dataframe tbody tr th:only-of-type {\n",
       "        vertical-align: middle;\n",
       "    }\n",
       "\n",
       "    .dataframe tbody tr th {\n",
       "        vertical-align: top;\n",
       "    }\n",
       "\n",
       "    .dataframe thead th {\n",
       "        text-align: right;\n",
       "    }\n",
       "</style>\n",
       "<table border=\"1\" class=\"dataframe\">\n",
       "  <thead>\n",
       "    <tr style=\"text-align: right;\">\n",
       "      <th></th>\n",
       "      <th>Référence</th>\n",
       "      <th>Intitulé</th>\n",
       "      <th>Date d’adoption</th>\n",
       "    </tr>\n",
       "  </thead>\n",
       "  <tbody>\n",
       "    <tr>\n",
       "      <th>0</th>\n",
       "      <td>A</td>\n",
       "      <td>Structure cantonale et principes fondamentaux</td>\n",
       "      <td>NaN</td>\n",
       "    </tr>\n",
       "    <tr>\n",
       "      <th>1</th>\n",
       "      <td>A 1</td>\n",
       "      <td>Territoire, lien à la Confédération</td>\n",
       "      <td>NaN</td>\n",
       "    </tr>\n",
       "    <tr>\n",
       "      <th>2</th>\n",
       "      <td>A 1 01</td>\n",
       "      <td>Acte d’union de la République de Genève à la C...</td>\n",
       "      <td>19.05.1815</td>\n",
       "    </tr>\n",
       "    <tr>\n",
       "      <th>3</th>\n",
       "      <td>A 1 02</td>\n",
       "      <td>Traité entre Sa Majesté très chrestienne et la...</td>\n",
       "      <td>15.08.1749</td>\n",
       "    </tr>\n",
       "    <tr>\n",
       "      <th>4</th>\n",
       "      <td>A 1 03</td>\n",
       "      <td>Extrait du Procès-verbal de la délimitation en...</td>\n",
       "      <td>20.07.1825</td>\n",
       "    </tr>\n",
       "    <tr>\n",
       "      <th>...</th>\n",
       "      <td>...</td>\n",
       "      <td>...</td>\n",
       "      <td>...</td>\n",
       "    </tr>\n",
       "    <tr>\n",
       "      <th>922</th>\n",
       "      <td>M 5 25</td>\n",
       "      <td>Loi sur les gardes de l’environnement et autre...</td>\n",
       "      <td>31.08.2017</td>\n",
       "    </tr>\n",
       "    <tr>\n",
       "      <th>923</th>\n",
       "      <td>M 5 25.03</td>\n",
       "      <td>Règlement sur l’organisation des offices canto...</td>\n",
       "      <td>25.04.2018</td>\n",
       "    </tr>\n",
       "    <tr>\n",
       "      <th>924</th>\n",
       "      <td>M 5 30</td>\n",
       "      <td>Loi visant à promouvoir des mesures en faveur ...</td>\n",
       "      <td>14.11.2014</td>\n",
       "    </tr>\n",
       "    <tr>\n",
       "      <th>925</th>\n",
       "      <td>M 5 30.01</td>\n",
       "      <td>Règlement d'application de la loi visant à pro...</td>\n",
       "      <td>14.01.2015</td>\n",
       "    </tr>\n",
       "    <tr>\n",
       "      <th>926</th>\n",
       "      <td>M 5 38</td>\n",
       "      <td>Loi instituant une commission consultative de ...</td>\n",
       "      <td>20.05.1999</td>\n",
       "    </tr>\n",
       "  </tbody>\n",
       "</table>\n",
       "<p>927 rows × 3 columns</p>\n",
       "</div>"
      ],
      "text/plain": [
       "     Référence                                           Intitulé  \\\n",
       "0            A      Structure cantonale et principes fondamentaux   \n",
       "1          A 1                Territoire, lien à la Confédération   \n",
       "2       A 1 01  Acte d’union de la République de Genève à la C...   \n",
       "3       A 1 02  Traité entre Sa Majesté très chrestienne et la...   \n",
       "4       A 1 03  Extrait du Procès-verbal de la délimitation en...   \n",
       "..         ...                                                ...   \n",
       "922     M 5 25  Loi sur les gardes de l’environnement et autre...   \n",
       "923  M 5 25.03  Règlement sur l’organisation des offices canto...   \n",
       "924     M 5 30  Loi visant à promouvoir des mesures en faveur ...   \n",
       "925  M 5 30.01  Règlement d'application de la loi visant à pro...   \n",
       "926     M 5 38  Loi instituant une commission consultative de ...   \n",
       "\n",
       "    Date d’adoption  \n",
       "0               NaN  \n",
       "1               NaN  \n",
       "2        19.05.1815  \n",
       "3        15.08.1749  \n",
       "4        20.07.1825  \n",
       "..              ...  \n",
       "922      31.08.2017  \n",
       "923      25.04.2018  \n",
       "924      14.11.2014  \n",
       "925      14.01.2015  \n",
       "926      20.05.1999  \n",
       "\n",
       "[927 rows x 3 columns]"
      ]
     },
     "execution_count": 3,
     "metadata": {},
     "output_type": "execute_result"
    }
   ],
   "source": [
    "rsge"
   ]
  },
  {
   "cell_type": "code",
   "execution_count": 4,
   "metadata": {},
   "outputs": [
    {
     "data": {
      "text/plain": [
       "0      1.0\n",
       "1      3.0\n",
       "2      6.0\n",
       "3      6.0\n",
       "4      6.0\n",
       "      ... \n",
       "922    6.0\n",
       "923    9.0\n",
       "924    6.0\n",
       "925    9.0\n",
       "926    6.0\n",
       "Name: Référence, Length: 927, dtype: float64"
      ]
     },
     "execution_count": 4,
     "metadata": {},
     "output_type": "execute_result"
    }
   ],
   "source": [
    "rsge[\"Référence\"].str.len()"
   ]
  },
  {
   "cell_type": "code",
   "execution_count": 5,
   "metadata": {},
   "outputs": [
    {
     "data": {
      "text/plain": [
       "Index(['Référence', 'Intitulé', 'Date d’adoption'], dtype='object')"
      ]
     },
     "execution_count": 5,
     "metadata": {},
     "output_type": "execute_result"
    }
   ],
   "source": [
    "rsge.columns"
   ]
  },
  {
   "cell_type": "code",
   "execution_count": 6,
   "metadata": {},
   "outputs": [
    {
     "data": {
      "application/vnd.microsoft.datawrangler.viewer.v0+json": {
       "columns": [
        {
         "name": "index",
         "rawType": "int64",
         "type": "integer"
        },
        {
         "name": "Rubrique",
         "rawType": "object",
         "type": "string"
        },
        {
         "name": "Intitulé rubrique",
         "rawType": "object",
         "type": "string"
        }
       ],
       "conversionMethod": "pd.DataFrame",
       "ref": "6c9e97ea-13fe-43f0-be86-4e580d6b8e6b",
       "rows": [
        [
         "0",
         "A",
         "Structure cantonale et principes fondamentaux"
        ],
        [
         "1",
         "B",
         "Organisation du canton"
        ],
        [
         "2",
         "C",
         "Instruction publique, culture"
        ],
        [
         "3",
         "D",
         "Finances et contributions"
        ],
        [
         "4",
         "E",
         "Droit civil et droit pénal, organisation judiciaire et procédure"
        ],
        [
         "5",
         "F",
         "Police"
        ],
        [
         "6",
         "G",
         "Militaire, protection civile et défense générale"
        ],
        [
         "7",
         "H",
         "Transports et communications"
        ],
        [
         "8",
         "I",
         "Commerce, industrie, arts et métiers, logement"
        ],
        [
         "9",
         "J",
         "Législation sociale"
        ],
        [
         "10",
         "K",
         "Santé"
        ],
        [
         "11",
         "L",
         "Domaine public et travaux"
        ],
        [
         "12",
         "M",
         "Agriculture, forêts, chasse et pêche"
        ]
       ],
       "shape": {
        "columns": 2,
        "rows": 13
       }
      },
      "text/html": [
       "<div>\n",
       "<style scoped>\n",
       "    .dataframe tbody tr th:only-of-type {\n",
       "        vertical-align: middle;\n",
       "    }\n",
       "\n",
       "    .dataframe tbody tr th {\n",
       "        vertical-align: top;\n",
       "    }\n",
       "\n",
       "    .dataframe thead th {\n",
       "        text-align: right;\n",
       "    }\n",
       "</style>\n",
       "<table border=\"1\" class=\"dataframe\">\n",
       "  <thead>\n",
       "    <tr style=\"text-align: right;\">\n",
       "      <th></th>\n",
       "      <th>Rubrique</th>\n",
       "      <th>Intitulé rubrique</th>\n",
       "    </tr>\n",
       "  </thead>\n",
       "  <tbody>\n",
       "    <tr>\n",
       "      <th>0</th>\n",
       "      <td>A</td>\n",
       "      <td>Structure cantonale et principes fondamentaux</td>\n",
       "    </tr>\n",
       "    <tr>\n",
       "      <th>1</th>\n",
       "      <td>B</td>\n",
       "      <td>Organisation du canton</td>\n",
       "    </tr>\n",
       "    <tr>\n",
       "      <th>2</th>\n",
       "      <td>C</td>\n",
       "      <td>Instruction publique, culture</td>\n",
       "    </tr>\n",
       "    <tr>\n",
       "      <th>3</th>\n",
       "      <td>D</td>\n",
       "      <td>Finances et contributions</td>\n",
       "    </tr>\n",
       "    <tr>\n",
       "      <th>4</th>\n",
       "      <td>E</td>\n",
       "      <td>Droit civil et droit pénal, organisation judic...</td>\n",
       "    </tr>\n",
       "    <tr>\n",
       "      <th>5</th>\n",
       "      <td>F</td>\n",
       "      <td>Police</td>\n",
       "    </tr>\n",
       "    <tr>\n",
       "      <th>6</th>\n",
       "      <td>G</td>\n",
       "      <td>Militaire, protection civile et défense générale</td>\n",
       "    </tr>\n",
       "    <tr>\n",
       "      <th>7</th>\n",
       "      <td>H</td>\n",
       "      <td>Transports et communications</td>\n",
       "    </tr>\n",
       "    <tr>\n",
       "      <th>8</th>\n",
       "      <td>I</td>\n",
       "      <td>Commerce, industrie, arts et métiers, logement</td>\n",
       "    </tr>\n",
       "    <tr>\n",
       "      <th>9</th>\n",
       "      <td>J</td>\n",
       "      <td>Législation sociale</td>\n",
       "    </tr>\n",
       "    <tr>\n",
       "      <th>10</th>\n",
       "      <td>K</td>\n",
       "      <td>Santé</td>\n",
       "    </tr>\n",
       "    <tr>\n",
       "      <th>11</th>\n",
       "      <td>L</td>\n",
       "      <td>Domaine public et travaux</td>\n",
       "    </tr>\n",
       "    <tr>\n",
       "      <th>12</th>\n",
       "      <td>M</td>\n",
       "      <td>Agriculture, forêts, chasse et pêche</td>\n",
       "    </tr>\n",
       "  </tbody>\n",
       "</table>\n",
       "</div>"
      ],
      "text/plain": [
       "   Rubrique                                  Intitulé rubrique\n",
       "0         A      Structure cantonale et principes fondamentaux\n",
       "1         B                             Organisation du canton\n",
       "2         C                      Instruction publique, culture\n",
       "3         D                          Finances et contributions\n",
       "4         E  Droit civil et droit pénal, organisation judic...\n",
       "5         F                                             Police\n",
       "6         G   Militaire, protection civile et défense générale\n",
       "7         H                       Transports et communications\n",
       "8         I     Commerce, industrie, arts et métiers, logement\n",
       "9         J                                Législation sociale\n",
       "10        K                                              Santé\n",
       "11        L                          Domaine public et travaux\n",
       "12        M               Agriculture, forêts, chasse et pêche"
      ]
     },
     "execution_count": 6,
     "metadata": {},
     "output_type": "execute_result"
    }
   ],
   "source": [
    "rubriques_mask = rsge[\"Référence\"].str.len() == 1\n",
    "rubriques_rsge = rsge.loc[rubriques_mask]\n",
    "rubriques_rsge = rubriques_rsge.reset_index().drop(columns=[\"index\",\"Date d’adoption\"])\n",
    "rubriques_rsge.columns = [\"Rubrique\", \"Intitulé rubrique\"]\n",
    "rubriques_rsge"
   ]
  },
  {
   "cell_type": "code",
   "execution_count": 7,
   "metadata": {},
   "outputs": [
    {
     "data": {
      "application/vnd.microsoft.datawrangler.viewer.v0+json": {
       "columns": [
        {
         "name": "index",
         "rawType": "int64",
         "type": "integer"
        },
        {
         "name": "Chapitre",
         "rawType": "object",
         "type": "string"
        },
        {
         "name": "Intitulé chapitre",
         "rawType": "object",
         "type": "string"
        }
       ],
       "conversionMethod": "pd.DataFrame",
       "ref": "ad66a19a-3860-40ad-ad60-5a4e4bc73347",
       "rows": [
        [
         "0",
         "A 1",
         "Territoire, lien à la Confédération"
        ],
        [
         "1",
         "A 2",
         "Constitution et principes généraux"
        ],
        [
         "2",
         "A 3",
         "Dénomination, armoiries et couleurs de l’Etat"
        ],
        [
         "3",
         "A 4",
         "Nationalité"
        ],
        [
         "4",
         "A 5",
         "Droits politiques"
        ],
        [
         "5",
         "B 1",
         "Pouvoirs législatif et exécutif"
        ],
        [
         "6",
         "B 2",
         "Publications officielles et archives"
        ],
        [
         "7",
         "B 3",
         "Pièces d’identité"
        ],
        [
         "8",
         "B 4",
         "Organisation de l’administration"
        ],
        [
         "9",
         "B 5",
         "Statuts, traitements et retraite"
        ],
        [
         "10",
         "B 6",
         "Organisation des communes"
        ],
        [
         "11",
         "C 1",
         "Instruction publique"
        ],
        [
         "12",
         "C 2",
         "Formation professionnelle"
        ],
        [
         "13",
         "C 3",
         "Culture"
        ],
        [
         "14",
         "D 1",
         "Organisation"
        ],
        [
         "15",
         "D 2",
         "Etablissements financiers et de crédit, emprunts"
        ],
        [
         "16",
         "D 3",
         "Impôts et taxes"
        ],
        [
         "17",
         "E 1",
         "Droit civil et droit des obligations"
        ],
        [
         "18",
         "E 2",
         "Organisation judiciaire et pouvoir judiciaire"
        ],
        [
         "19",
         "E 3",
         "Procédure civile"
        ],
        [
         "20",
         "E 4",
         "Droit pénal et procédure pénale"
        ],
        [
         "21",
         "E 5",
         "Procédure administrative"
        ],
        [
         "22",
         "E 6",
         "Professions juridiques"
        ],
        [
         "23",
         "F 1",
         "Organisation de la police"
        ],
        [
         "24",
         "F 2",
         "Séjour et établissements, police des étrangers, recensement"
        ],
        [
         "25",
         "F 3",
         "Police de la rue et autres lieux publics"
        ],
        [
         "26",
         "F 4",
         "Police du feu"
        ],
        [
         "27",
         "G 1",
         "Service militaire"
        ],
        [
         "28",
         "G 2",
         "Protection civile"
        ],
        [
         "29",
         "G 3",
         "Défense générale"
        ],
        [
         "30",
         "H 1",
         "Circulation"
        ],
        [
         "31",
         "H 2",
         "Navigation"
        ],
        [
         "32",
         "H 3",
         "Navigation aérienne"
        ],
        [
         "33",
         "I 1",
         "Commerce, industrie et tourisme"
        ],
        [
         "34",
         "I 2",
         "Professions et métiers divers"
        ],
        [
         "35",
         "I 3",
         "Spectacles, divertissements, jeux et loteries"
        ],
        [
         "36",
         "I 4",
         "Logement"
        ],
        [
         "37",
         "J 1",
         "Relations du travail"
        ],
        [
         "38",
         "J 2",
         "Placement et chômage"
        ],
        [
         "39",
         "J 3",
         "Assurances contre la maladie et les accidents"
        ],
        [
         "40",
         "J 4",
         "Assistance"
        ],
        [
         "41",
         "J 5",
         "Protection de la famille"
        ],
        [
         "42",
         "J 6",
         "Protection de la jeunesse"
        ],
        [
         "43",
         "J 7",
         "Protection de la vieillesse"
        ],
        [
         "44",
         "K 1",
         "Police sanitaire, lutte contre les maladies"
        ],
        [
         "45",
         "K 2",
         "Etablissements hospitaliers"
        ],
        [
         "46",
         "K 3",
         "Professions médicales et auxiliaires"
        ],
        [
         "47",
         "K 4",
         "Médicaments, stupéfiants, produits divers"
        ],
        [
         "48",
         "K 5",
         "Denrées alimentaires"
        ],
        [
         "49",
         "L 1",
         "Voies de communication et urbanisme"
        ]
       ],
       "shape": {
        "columns": 2,
        "rows": 61
       }
      },
      "text/html": [
       "<div>\n",
       "<style scoped>\n",
       "    .dataframe tbody tr th:only-of-type {\n",
       "        vertical-align: middle;\n",
       "    }\n",
       "\n",
       "    .dataframe tbody tr th {\n",
       "        vertical-align: top;\n",
       "    }\n",
       "\n",
       "    .dataframe thead th {\n",
       "        text-align: right;\n",
       "    }\n",
       "</style>\n",
       "<table border=\"1\" class=\"dataframe\">\n",
       "  <thead>\n",
       "    <tr style=\"text-align: right;\">\n",
       "      <th></th>\n",
       "      <th>Chapitre</th>\n",
       "      <th>Intitulé chapitre</th>\n",
       "    </tr>\n",
       "  </thead>\n",
       "  <tbody>\n",
       "    <tr>\n",
       "      <th>0</th>\n",
       "      <td>A 1</td>\n",
       "      <td>Territoire, lien à la Confédération</td>\n",
       "    </tr>\n",
       "    <tr>\n",
       "      <th>1</th>\n",
       "      <td>A 2</td>\n",
       "      <td>Constitution et principes généraux</td>\n",
       "    </tr>\n",
       "    <tr>\n",
       "      <th>2</th>\n",
       "      <td>A 3</td>\n",
       "      <td>Dénomination, armoiries et couleurs de l’Etat</td>\n",
       "    </tr>\n",
       "    <tr>\n",
       "      <th>3</th>\n",
       "      <td>A 4</td>\n",
       "      <td>Nationalité</td>\n",
       "    </tr>\n",
       "    <tr>\n",
       "      <th>4</th>\n",
       "      <td>A 5</td>\n",
       "      <td>Droits politiques</td>\n",
       "    </tr>\n",
       "    <tr>\n",
       "      <th>...</th>\n",
       "      <td>...</td>\n",
       "      <td>...</td>\n",
       "    </tr>\n",
       "    <tr>\n",
       "      <th>56</th>\n",
       "      <td>M 1</td>\n",
       "      <td>Améliorations foncières, droit foncier rural</td>\n",
       "    </tr>\n",
       "    <tr>\n",
       "      <th>57</th>\n",
       "      <td>M 2</td>\n",
       "      <td>Agriculture et viticulture</td>\n",
       "    </tr>\n",
       "    <tr>\n",
       "      <th>58</th>\n",
       "      <td>M 3</td>\n",
       "      <td>Animaux</td>\n",
       "    </tr>\n",
       "    <tr>\n",
       "      <th>59</th>\n",
       "      <td>M 4</td>\n",
       "      <td>Chasse et pêche</td>\n",
       "    </tr>\n",
       "    <tr>\n",
       "      <th>60</th>\n",
       "      <td>M 5</td>\n",
       "      <td>Protection de la nature</td>\n",
       "    </tr>\n",
       "  </tbody>\n",
       "</table>\n",
       "<p>61 rows × 2 columns</p>\n",
       "</div>"
      ],
      "text/plain": [
       "   Chapitre                              Intitulé chapitre\n",
       "0       A 1            Territoire, lien à la Confédération\n",
       "1       A 2             Constitution et principes généraux\n",
       "2       A 3  Dénomination, armoiries et couleurs de l’Etat\n",
       "3       A 4                                    Nationalité\n",
       "4       A 5                              Droits politiques\n",
       "..      ...                                            ...\n",
       "56      M 1   Améliorations foncières, droit foncier rural\n",
       "57      M 2                     Agriculture et viticulture\n",
       "58      M 3                                        Animaux\n",
       "59      M 4                                Chasse et pêche\n",
       "60      M 5                        Protection de la nature\n",
       "\n",
       "[61 rows x 2 columns]"
      ]
     },
     "execution_count": 7,
     "metadata": {},
     "output_type": "execute_result"
    }
   ],
   "source": [
    "chapitres_mask = (rsge[\"Référence\"].str.len() > 1) & (rsge[\"Référence\"].str.len() <=4)\n",
    "chapitres_rsge = rsge.loc[chapitres_mask]\n",
    "chapitres_rsge = chapitres_rsge.reset_index().drop(columns=[\"index\",\"Date d’adoption\"])\n",
    "chapitres_rsge.columns = [\"Chapitre\", \"Intitulé chapitre\"]\n",
    "chapitres_rsge"
   ]
  },
  {
   "cell_type": "code",
   "execution_count": 8,
   "metadata": {},
   "outputs": [
    {
     "data": {
      "text/plain": [
       "0      False\n",
       "1       True\n",
       "2      False\n",
       "3      False\n",
       "4      False\n",
       "       ...  \n",
       "922    False\n",
       "923    False\n",
       "924    False\n",
       "925    False\n",
       "926    False\n",
       "Name: Référence, Length: 927, dtype: bool"
      ]
     },
     "execution_count": 8,
     "metadata": {},
     "output_type": "execute_result"
    }
   ],
   "source": [
    "chapitres_mask"
   ]
  },
  {
   "cell_type": "code",
   "execution_count": 9,
   "metadata": {},
   "outputs": [
    {
     "name": "stdout",
     "output_type": "stream",
     "text": [
      "     Référence                                           Intitulé\n",
      "0       A 1 01  Acte d’union de la République de Genève à la C...\n",
      "1       A 1 02  Traité entre Sa Majesté très chrestienne et la...\n",
      "2       A 1 03  Extrait du Procès-verbal de la délimitation en...\n",
      "3       A 1 04  Extrait du Procès-verbal de délimitation du te...\n",
      "4       A 1 05  Protocole du Congrès de Vienne (territoire céd...\n",
      "..         ...                                                ...\n",
      "847     M 5 25  Loi sur les gardes de l’environnement et autre...\n",
      "848  M 5 25.03  Règlement sur l’organisation des offices canto...\n",
      "849     M 5 30  Loi visant à promouvoir des mesures en faveur ...\n",
      "850  M 5 30.01  Règlement d'application de la loi visant à pro...\n",
      "851     M 5 38  Loi instituant une commission consultative de ...\n",
      "\n",
      "[852 rows x 2 columns]\n"
     ]
    }
   ],
   "source": [
    "reformatted_rsge = rsge.loc[~(chapitres_mask | rubriques_mask)]\n",
    "reformatted_rsge = reformatted_rsge.loc[~pd.isna(reformatted_rsge[\"Référence\"])]\n",
    "reformatted_rsge = reformatted_rsge.reset_index().drop(columns=[\"index\",\"Date d’adoption\"])\n",
    "print(reformatted_rsge)"
   ]
  },
  {
   "cell_type": "code",
   "execution_count": 10,
   "metadata": {},
   "outputs": [
    {
     "data": {
      "application/vnd.microsoft.datawrangler.viewer.v0+json": {
       "columns": [
        {
         "name": "index",
         "rawType": "int64",
         "type": "integer"
        },
        {
         "name": "Référence",
         "rawType": "object",
         "type": "string"
        },
        {
         "name": "Intitulé",
         "rawType": "object",
         "type": "string"
        },
        {
         "name": "Rubrique",
         "rawType": "object",
         "type": "string"
        },
        {
         "name": "Chapitre",
         "rawType": "object",
         "type": "string"
        }
       ],
       "conversionMethod": "pd.DataFrame",
       "ref": "eee49896-bbee-4534-a1a4-71eed6a97bf8",
       "rows": [
        [
         "0",
         "A 1 01",
         "Acte d’union de la République de Genève à la Confédération suisse (AcU-GE-CH)",
         "A",
         "A 1"
        ],
        [
         "1",
         "A 1 02",
         "Traité entre Sa Majesté très chrestienne et la Republique de Geneve (Tr-F-GE)",
         "A",
         "A 1"
        ],
        [
         "2",
         "A 1 03",
         "Extrait du Procès-verbal de la délimitation entre le territoire du royaume de France et celui du canton de Genève (PVDT-F-GE)",
         "A",
         "A 1"
        ],
        [
         "3",
         "A 1 04",
         "Extrait du Procès-verbal de délimitation du territoire de Céligny (PVDT-Cél)",
         "A",
         "A 1"
        ],
        [
         "4",
         "A 1 05",
         "Protocole du Congrès de Vienne (territoire cédé au canton de Genève) (PC-Vienne-1)",
         "A",
         "A 1"
        ],
        [
         "5",
         "A 1 06",
         "Protocole du Congrès de Vienne (relatif à la neutralisation du Chablais et du Faucigny) (PC-Vienne-2)",
         "A",
         "A 1"
        ],
        [
         "6",
         "A 1 07",
         "Traité de Turin entre Sa Majesté le roi de Sardaigne, la Confédération suisse et le canton de Genève (TrTurin)",
         "A",
         "A 1"
        ],
        [
         "7",
         "A 1 08",
         "Convention pour le partage des biens appartenant aux communes dont une partie seulement a été cédée à la Suisse par S. M. le roi de Sardaigne, d’après le traité du 16 mars 1816 (Cpart)",
         "A",
         "A 1"
        ],
        [
         "8",
         "A 1 09",
         "Frontière Vaud-Genève ou Traité de Lausanne (TrLausanne)",
         "A",
         "A 1"
        ],
        [
         "9",
         "A 1 10",
         "Convention entre la Suisse et la France sur la détermination de la frontière dans le lac Léman (CDFLéman)",
         "A",
         "A 1"
        ],
        [
         "10",
         "A 1 11",
         "Accord de Karlsruhe sur la coopération transfrontalière entre les collectivités territoriales et organismes publics locaux (AKCT)",
         "A",
         "A 1"
        ],
        [
         "11",
         "A 1 11.0",
         "Loi ratifiant l’extension au canton de Genève de l’accord de Karlsruhe sur la coopération transfrontalière entre les collectivités territoriales et organismes publics locaux (L-AKCT)",
         "A",
         "A 1"
        ],
        [
         "12",
         "A 1 12",
         "Loi relative aux organismes de coopération transfrontalière (LOCT)",
         "A",
         "A 1"
        ],
        [
         "13",
         "A 1 13",
         "Convention instituant le Groupement local de coopération transfrontalière « Projet d’agglomération franco-valdo-genevois », en vue d’en assurer la gouvernance (CAgglo)",
         "A",
         "A 1"
        ],
        [
         "14",
         "A 1 13.0",
         "Loi approuvant la création du Groupement local de coopération transfrontalière « Projet d’agglomération franco-valdo-genevois » (L‑CAgglo)",
         "A",
         "A 1"
        ],
        [
         "15",
         "A 2 00",
         "Constitution de la République et canton de Genève (Cst-GE)",
         "A",
         "A 2"
        ],
        [
         "16",
         "A 2 04",
         "Loi-cadre sur la répartition des tâches entre les communes et le canton (LRT)",
         "A",
         "A 2"
        ],
        [
         "17",
         "A 2 04.03",
         "Règlement sur le fonds de régulation dans le cadre de la réforme de la répartition des tâches entre les communes et le canton (RFRRT)",
         "A",
         "A 2"
        ],
        [
         "18",
         "A 2 05",
         "Loi sur la répartition des tâches entre les communes et le canton (1er train) (LRT-1)",
         "A",
         "A 2"
        ],
        [
         "19",
         "A 2 05.03",
         "Règlement sur les prestations de soutien aux personnes âgées délivrées par les communes, en application de la loi sur la répartition des tâches entre les communes et le canton (1er train) (RPSPA-LRT-1)",
         "A",
         "A 2"
        ],
        [
         "20",
         "A 2 07",
         "Loi sur la répartition des tâches entre les communes et le canton en matière de sport (3e train) (LRT-3)",
         "A",
         "A 2"
        ],
        [
         "21",
         "A 2 08",
         "Loi sur l’information du public, l’accès aux documents et la protection des données personnelles (LIPAD)",
         "A",
         "A 2"
        ],
        [
         "22",
         "A 2 08.01",
         "Règlement d’application de la loi sur l’information du public, l’accès aux documents et la protection des données personnelles (RIPAD)",
         "A",
         "A 2"
        ],
        [
         "23",
         "A 2 09",
         "Loi instituant les numéros d’identification personnels communs (LNIP)",
         "A",
         "A 2"
        ],
        [
         "24",
         "A 2 10",
         "Loi sur les effets et l’application des lois (LEAL)",
         "A",
         "A 2"
        ],
        [
         "25",
         "A 2 15",
         "Loi sur la prestation des serments (LSer)",
         "A",
         "A 2"
        ],
        [
         "26",
         "A 2 20",
         "Loi sur les commissions officielles (LCOf)",
         "A",
         "A 2"
        ],
        [
         "27",
         "A 2 20.01",
         "Règlement sur les commissions officielles (RCOf)",
         "A",
         "A 2"
        ],
        [
         "28",
         "A 2 24",
         "Loi sur l’organisation des institutions de droit public (LOIDP)",
         "A",
         "A 2"
        ],
        [
         "29",
         "A 2 24.01",
         "Règlement sur l’organisation des institutions de droit public (ROIDP)",
         "A",
         "A 2"
        ],
        [
         "30",
         "A 2 30",
         "Loi sur la computation des délais échéant un samedi (LDélais)",
         "A",
         "A 2"
        ],
        [
         "31",
         "A 2 35",
         "Loi concernant la législation expérimentale (LLExp)",
         "A",
         "A 2"
        ],
        [
         "32",
         "A 2 40",
         "Loi sur la responsabilité de l’Etat et des communes (LREC)",
         "A",
         "A 2"
        ],
        [
         "33",
         "A 2 55",
         "Loi sur l'intégration des étrangers (LIEtr)",
         "A",
         "A 2"
        ],
        [
         "34",
         "A 2 55.01",
         "Règlement d'application de la loi sur l'intégration des étrangers (RIEtr)",
         "A",
         "A 2"
        ],
        [
         "35",
         "A 2 60",
         "Loi sur l'action publique en vue d'un développement durable (Agenda 21) (LDD)",
         "A",
         "A 2"
        ],
        [
         "36",
         "A 2 65",
         "Loi sur les relations et le développement de la Genève internationale (LGI)",
         "A",
         "A 2"
        ],
        [
         "37",
         "A 2 70",
         "Loi relative à la politique de cohésion sociale en milieu urbain (LCSMU)",
         "A",
         "A 2"
        ],
        [
         "38",
         "A 2 70.01",
         "Règlement d’application de la loi relative à la politique de cohésion sociale en milieu urbain (RCSMU)",
         "A",
         "A 2"
        ],
        [
         "39",
         "A 2 75",
         "Loi sur la laïcité de l’Etat (LLE)",
         "A",
         "A 2"
        ],
        [
         "40",
         "A 2 75.01",
         "Règlement d’application de la loi sur la laïcité de l’Etat (RLE)",
         "A",
         "A 2"
        ],
        [
         "41",
         "A 2 80",
         "Loi sur la lutte contre la traite des êtres humains (LTEH)",
         "A",
         "A 2"
        ],
        [
         "42",
         "A 2 90",
         "Loi générale sur l’égalité et la lutte contre les discriminations (LED)",
         "A",
         "A 2"
        ],
        [
         "43",
         "A 2 91",
         "Loi sur l’égalité et la lutte contre les discriminations liées au sexe et au genre (LED-Genre)",
         "A",
         "A 2"
        ],
        [
         "44",
         "A 3 01",
         "Loi sur la dénomination, les armoiries et les couleurs de l’Etat (LArm)",
         "A",
         "A 3"
        ],
        [
         "45",
         "A 4 05",
         "Loi sur le droit de cité genevois (LDCG)",
         "A",
         "A 4"
        ],
        [
         "46",
         "A 4 05.01",
         "Règlement d'application de la loi sur le droit de cité genevois (RDCG)",
         "A",
         "A 4"
        ],
        [
         "47",
         "A 4 05.04",
         "Règlement concernant la détermination des communes d’origine des citoyens genevois (RCOG)",
         "A",
         "A 4"
        ],
        [
         "48",
         "A 5 05",
         "Loi sur l’exercice des droits politiques (LEDP)",
         "A",
         "A 5"
        ],
        [
         "49",
         "A 5 05.01",
         "Règlement d’application de la loi sur l’exercice des droits politiques (REDP)",
         "A",
         "A 5"
        ]
       ],
       "shape": {
        "columns": 4,
        "rows": 852
       }
      },
      "text/html": [
       "<div>\n",
       "<style scoped>\n",
       "    .dataframe tbody tr th:only-of-type {\n",
       "        vertical-align: middle;\n",
       "    }\n",
       "\n",
       "    .dataframe tbody tr th {\n",
       "        vertical-align: top;\n",
       "    }\n",
       "\n",
       "    .dataframe thead th {\n",
       "        text-align: right;\n",
       "    }\n",
       "</style>\n",
       "<table border=\"1\" class=\"dataframe\">\n",
       "  <thead>\n",
       "    <tr style=\"text-align: right;\">\n",
       "      <th></th>\n",
       "      <th>Référence</th>\n",
       "      <th>Intitulé</th>\n",
       "      <th>Rubrique</th>\n",
       "      <th>Chapitre</th>\n",
       "    </tr>\n",
       "  </thead>\n",
       "  <tbody>\n",
       "    <tr>\n",
       "      <th>0</th>\n",
       "      <td>A 1 01</td>\n",
       "      <td>Acte d’union de la République de Genève à la C...</td>\n",
       "      <td>A</td>\n",
       "      <td>A 1</td>\n",
       "    </tr>\n",
       "    <tr>\n",
       "      <th>1</th>\n",
       "      <td>A 1 02</td>\n",
       "      <td>Traité entre Sa Majesté très chrestienne et la...</td>\n",
       "      <td>A</td>\n",
       "      <td>A 1</td>\n",
       "    </tr>\n",
       "    <tr>\n",
       "      <th>2</th>\n",
       "      <td>A 1 03</td>\n",
       "      <td>Extrait du Procès-verbal de la délimitation en...</td>\n",
       "      <td>A</td>\n",
       "      <td>A 1</td>\n",
       "    </tr>\n",
       "    <tr>\n",
       "      <th>3</th>\n",
       "      <td>A 1 04</td>\n",
       "      <td>Extrait du Procès-verbal de délimitation du te...</td>\n",
       "      <td>A</td>\n",
       "      <td>A 1</td>\n",
       "    </tr>\n",
       "    <tr>\n",
       "      <th>4</th>\n",
       "      <td>A 1 05</td>\n",
       "      <td>Protocole du Congrès de Vienne (territoire céd...</td>\n",
       "      <td>A</td>\n",
       "      <td>A 1</td>\n",
       "    </tr>\n",
       "    <tr>\n",
       "      <th>...</th>\n",
       "      <td>...</td>\n",
       "      <td>...</td>\n",
       "      <td>...</td>\n",
       "      <td>...</td>\n",
       "    </tr>\n",
       "    <tr>\n",
       "      <th>847</th>\n",
       "      <td>M 5 25</td>\n",
       "      <td>Loi sur les gardes de l’environnement et autre...</td>\n",
       "      <td>M</td>\n",
       "      <td>M 5</td>\n",
       "    </tr>\n",
       "    <tr>\n",
       "      <th>848</th>\n",
       "      <td>M 5 25.03</td>\n",
       "      <td>Règlement sur l’organisation des offices canto...</td>\n",
       "      <td>M</td>\n",
       "      <td>M 5</td>\n",
       "    </tr>\n",
       "    <tr>\n",
       "      <th>849</th>\n",
       "      <td>M 5 30</td>\n",
       "      <td>Loi visant à promouvoir des mesures en faveur ...</td>\n",
       "      <td>M</td>\n",
       "      <td>M 5</td>\n",
       "    </tr>\n",
       "    <tr>\n",
       "      <th>850</th>\n",
       "      <td>M 5 30.01</td>\n",
       "      <td>Règlement d'application de la loi visant à pro...</td>\n",
       "      <td>M</td>\n",
       "      <td>M 5</td>\n",
       "    </tr>\n",
       "    <tr>\n",
       "      <th>851</th>\n",
       "      <td>M 5 38</td>\n",
       "      <td>Loi instituant une commission consultative de ...</td>\n",
       "      <td>M</td>\n",
       "      <td>M 5</td>\n",
       "    </tr>\n",
       "  </tbody>\n",
       "</table>\n",
       "<p>852 rows × 4 columns</p>\n",
       "</div>"
      ],
      "text/plain": [
       "     Référence                                           Intitulé Rubrique  \\\n",
       "0       A 1 01  Acte d’union de la République de Genève à la C...        A   \n",
       "1       A 1 02  Traité entre Sa Majesté très chrestienne et la...        A   \n",
       "2       A 1 03  Extrait du Procès-verbal de la délimitation en...        A   \n",
       "3       A 1 04  Extrait du Procès-verbal de délimitation du te...        A   \n",
       "4       A 1 05  Protocole du Congrès de Vienne (territoire céd...        A   \n",
       "..         ...                                                ...      ...   \n",
       "847     M 5 25  Loi sur les gardes de l’environnement et autre...        M   \n",
       "848  M 5 25.03  Règlement sur l’organisation des offices canto...        M   \n",
       "849     M 5 30  Loi visant à promouvoir des mesures en faveur ...        M   \n",
       "850  M 5 30.01  Règlement d'application de la loi visant à pro...        M   \n",
       "851     M 5 38  Loi instituant une commission consultative de ...        M   \n",
       "\n",
       "    Chapitre  \n",
       "0        A 1  \n",
       "1        A 1  \n",
       "2        A 1  \n",
       "3        A 1  \n",
       "4        A 1  \n",
       "..       ...  \n",
       "847      M 5  \n",
       "848      M 5  \n",
       "849      M 5  \n",
       "850      M 5  \n",
       "851      M 5  \n",
       "\n",
       "[852 rows x 4 columns]"
      ]
     },
     "execution_count": 10,
     "metadata": {},
     "output_type": "execute_result"
    }
   ],
   "source": [
    "reformatted_rsge[\"Rubrique\"] = reformatted_rsge['Référence'].str[0]\n",
    "reformatted_rsge[\"Chapitre\"] = reformatted_rsge['Référence'].str[:3]\n",
    "reformatted_rsge\n"
   ]
  },
  {
   "cell_type": "code",
   "execution_count": 11,
   "metadata": {},
   "outputs": [],
   "source": [
    "reformatted_rsge = reformatted_rsge.merge(chapitres_rsge, on= \"Chapitre\", how=\"left\").merge(rubriques_rsge, on = \"Rubrique\", how = \"left\")\n"
   ]
  },
  {
   "cell_type": "code",
   "execution_count": 12,
   "metadata": {},
   "outputs": [],
   "source": [
    "reformatted_rsge.to_csv('outputs/reformatted_rsge.csv', index=False)\n"
   ]
  }
 ],
 "metadata": {
  "kernelspec": {
   "display_name": "projet_pse_310",
   "language": "python",
   "name": "python3"
  },
  "language_info": {
   "codemirror_mode": {
    "name": "ipython",
    "version": 3
   },
   "file_extension": ".py",
   "mimetype": "text/x-python",
   "name": "python",
   "nbconvert_exporter": "python",
   "pygments_lexer": "ipython3",
   "version": "3.10.16"
  }
 },
 "nbformat": 4,
 "nbformat_minor": 2
}
