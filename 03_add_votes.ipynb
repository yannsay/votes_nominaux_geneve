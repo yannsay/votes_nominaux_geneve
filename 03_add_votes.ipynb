{
 "cells": [
  {
   "cell_type": "code",
   "execution_count": 8,
   "metadata": {},
   "outputs": [],
   "source": [
    "import pandas as pd"
   ]
  },
  {
   "cell_type": "code",
   "execution_count": 9,
   "metadata": {},
   "outputs": [],
   "source": [
    "votes = pd.read_csv(\"inputs/votes.csv\")"
   ]
  },
  {
   "cell_type": "code",
   "execution_count": 10,
   "metadata": {},
   "outputs": [
    {
     "data": {
      "text/plain": [
       "Index(['vote_body_key', 'vote_created_local', 'vote_external_id', 'vote_id',\n",
       "       'vote_person_external_id', 'vote_person_fullname', 'vote_vote',\n",
       "       'vote_vote_display_de', 'vote_vote_display_fr', 'vote_vote_display_it',\n",
       "       'vote_voting_external_id'],\n",
       "      dtype='object')"
      ]
     },
     "execution_count": 10,
     "metadata": {},
     "output_type": "execute_result"
    }
   ],
   "source": [
    "votes.columns"
   ]
  },
  {
   "cell_type": "code",
   "execution_count": 11,
   "metadata": {},
   "outputs": [],
   "source": [
    "vote_dict = pd.DataFrame({\"vote_vote\":[\"yes\", \"no\", \"abstention\"],\n",
    "                          \"vote_label\":[\"Oui\", \"Non\", \"Abstention\"]})"
   ]
  },
  {
   "cell_type": "code",
   "execution_count": 12,
   "metadata": {},
   "outputs": [],
   "source": [
    "clean_votes = votes.merge(vote_dict, how = \"left\",on = \"vote_vote\")"
   ]
  },
  {
   "cell_type": "code",
   "execution_count": 13,
   "metadata": {},
   "outputs": [
    {
     "data": {
      "application/vnd.microsoft.datawrangler.viewer.v0+json": {
       "columns": [
        {
         "name": "index",
         "rawType": "int64",
         "type": "integer"
        },
        {
         "name": "vote_external_id",
         "rawType": "object",
         "type": "string"
        },
        {
         "name": "vote_id",
         "rawType": "int64",
         "type": "integer"
        },
        {
         "name": "vote_person_external_id",
         "rawType": "int64",
         "type": "integer"
        },
        {
         "name": "vote_person_fullname",
         "rawType": "object",
         "type": "string"
        },
        {
         "name": "vote_vote_display_fr",
         "rawType": "object",
         "type": "string"
        },
        {
         "name": "vote_voting_external_id",
         "rawType": "object",
         "type": "string"
        },
        {
         "name": "vote_label",
         "rawType": "object",
         "type": "string"
        }
       ],
       "conversionMethod": "pd.DataFrame",
       "ref": "28f7ebe4-ac3d-4c21-870a-f23939bf75f2",
       "rows": [
        [
         "0",
         "030101_AN-IN00176B-1_2537",
         "10780058",
         "2537",
         "Sebastian Aeschbach",
         "-",
         "030101_AN-IN00176B-1",
         "Non"
        ],
        [
         "1",
         "030101_AN-IN00176B-1_2527",
         "10780059",
         "2527",
         "Leonard Ferati",
         "-",
         "030101_AN-IN00176B-1",
         "Non"
        ],
        [
         "2",
         "030101_AN-IN00176B-1_2478",
         "10780060",
         "2478",
         "Jean-Pierre Pasquier",
         "-",
         "030101_AN-IN00176B-1",
         "Non"
        ],
        [
         "3",
         "030101_AN-IN00176B-1_2513",
         "10780061",
         "2513",
         "Masha Alimi",
         "-",
         "030101_AN-IN00176B-1",
         "Non"
        ],
        [
         "4",
         "030101_AN-IN00176B-1_2471",
         "10780062",
         "2471",
         "Joëlle Fiss",
         "-",
         "030101_AN-IN00176B-1",
         "Non"
        ],
        [
         "5",
         "030101_AN-IN00176B-1_2535",
         "10780063",
         "2535",
         "Léo Peterschmitt",
         "-",
         "030101_AN-IN00176B-1",
         "Non"
        ],
        [
         "6",
         "030101_AN-IN00176B-1_2518",
         "10780064",
         "2518",
         "Lara Atassi",
         "-",
         "030101_AN-IN00176B-1",
         "Non"
        ],
        [
         "7",
         "030101_AN-IN00176B-1_38",
         "10780065",
         "38",
         "Stéphane Florey",
         "+",
         "030101_AN-IN00176B-1",
         "Oui"
        ],
        [
         "8",
         "030101_AN-IN00176B-1_2392",
         "10780066",
         "2392",
         "André Pfeffer",
         "+",
         "030101_AN-IN00176B-1",
         "Oui"
        ],
        [
         "9",
         "030101_AN-IN00176B-1_2544",
         "10780067",
         "2544",
         "Darius Azarpey",
         "-",
         "030101_AN-IN00176B-1",
         "Non"
        ],
        [
         "10",
         "030101_AN-IN00176B-1_2382",
         "10780068",
         "2382",
         "Christian Flury",
         "-",
         "030101_AN-IN00176B-1",
         "Non"
        ],
        [
         "11",
         "030101_AN-IN00176B-1_2443",
         "10780069",
         "2443",
         "Francine de Planta",
         "-",
         "030101_AN-IN00176B-1",
         "Non"
        ],
        [
         "12",
         "030101_AN-IN00176B-1_2375",
         "10780070",
         "2375",
         "François Baertschi",
         "-",
         "030101_AN-IN00176B-1",
         "Non"
        ],
        [
         "13",
         "030101_AN-IN00176B-1_2542",
         "10780071",
         "2542",
         "Sami Gashi",
         "-",
         "030101_AN-IN00176B-1",
         "Non"
        ],
        [
         "14",
         "030101_AN-IN00176B-1_551",
         "10780072",
         "551",
         "Charles Poncet",
         "+",
         "030101_AN-IN00176B-1",
         "Oui"
        ],
        [
         "15",
         "030101_AN-IN00176B-1_2517",
         "10780073",
         "2517",
         "Stefan Balaban",
         "-",
         "030101_AN-IN00176B-1",
         "Non"
        ],
        [
         "16",
         "030101_AN-IN00176B-1_2425",
         "10780074",
         "2425",
         "Adrien Genecand",
         "-",
         "030101_AN-IN00176B-1",
         "Non"
        ],
        [
         "17",
         "030101_AN-IN00176B-1_2534",
         "10780075",
         "2534",
         "Julien Ramu",
         "+",
         "030101_AN-IN00176B-1",
         "Oui"
        ],
        [
         "18",
         "030101_AN-IN00176B-1_2475",
         "10780076",
         "2475",
         "Dilara Bayrak",
         "-",
         "030101_AN-IN00176B-1",
         "Non"
        ],
        [
         "19",
         "030101_AN-IN00176B-1_2383",
         "10780077",
         "2383",
         "Jean-Marc Guinchard",
         "-",
         "030101_AN-IN00176B-1",
         "Non"
        ],
        [
         "20",
         "030101_AN-IN00176B-1_2350",
         "10780078",
         "2350",
         "Jean-Charles Rielle",
         "-",
         "030101_AN-IN00176B-1",
         "Non"
        ],
        [
         "21",
         "030101_AN-IN00176B-1_2430",
         "10780079",
         "2430",
         "Patricia Bidaux",
         "-",
         "030101_AN-IN00176B-1",
         "Non"
        ],
        [
         "22",
         "030101_AN-IN00176B-1_2533",
         "10780080",
         "2533",
         "Angèle-Marie Habiyakare",
         "-",
         "030101_AN-IN00176B-1",
         "Non"
        ],
        [
         "23",
         "030101_AN-IN00176B-1_2421",
         "10780081",
         "2421",
         "Ana Roch",
         "-",
         "030101_AN-IN00176B-1",
         "Non"
        ],
        [
         "24",
         "030101_AN-IN00176B-1_2441",
         "10780082",
         "2441",
         "Jacques Blondin",
         "-",
         "030101_AN-IN00176B-1",
         "Non"
        ],
        [
         "25",
         "030101_AN-IN00176B-1_56",
         "10780083",
         "56",
         "Christo Ivanov",
         "+",
         "030101_AN-IN00176B-1",
         "Oui"
        ],
        [
         "26",
         "030101_AN-IN00176B-1_2490",
         "10780084",
         "2490",
         "Philippe de Rougemont",
         "-",
         "030101_AN-IN00176B-1",
         "Non"
        ],
        [
         "27",
         "030101_AN-IN00176B-1_2521",
         "10780085",
         "2521",
         "Sophie Bobillier",
         "-",
         "030101_AN-IN00176B-1",
         "Non"
        ],
        [
         "28",
         "030101_AN-IN00176B-1_2512",
         "10780086",
         "2512",
         "Arber Jahija",
         "-",
         "030101_AN-IN00176B-1",
         "Non"
        ],
        [
         "29",
         "030101_AN-IN00176B-1_2352",
         "10780087",
         "2352",
         "Romain de Sainte Marie",
         "-",
         "030101_AN-IN00176B-1",
         "Non"
        ],
        [
         "30",
         "030101_AN-IN00176B-1_2547",
         "10780088",
         "2547",
         "Thomas Bruchez",
         "-",
         "030101_AN-IN00176B-1",
         "Non"
        ],
        [
         "31",
         "030101_AN-IN00176B-1_57",
         "10780089",
         "57",
         "Jacques Jeannerat",
         "-",
         "030101_AN-IN00176B-1",
         "Non"
        ],
        [
         "32",
         "030101_AN-IN00176B-1_2526",
         "10780090",
         "2526",
         "Djawed Sangdel",
         "-",
         "030101_AN-IN00176B-1",
         "Non"
        ],
        [
         "33",
         "030101_AN-IN00176B-1_2461",
         "10780091",
         "2461",
         "Natacha Buffet-Desfayes",
         "-",
         "030101_AN-IN00176B-1",
         "Non"
        ],
        [
         "34",
         "030101_AN-IN00176B-1_2531",
         "10780092",
         "2531",
         "Cédric Jeanneret",
         "-",
         "030101_AN-IN00176B-1",
         "Non"
        ],
        [
         "35",
         "030101_AN-IN00176B-1_2503",
         "10780093",
         "2503",
         "Marc Saudan",
         "-",
         "030101_AN-IN00176B-1",
         "Non"
        ],
        [
         "36",
         "030101_AN-IN00176B-1_2498",
         "10780094",
         "2498",
         "Rémy Burri",
         "-",
         "030101_AN-IN00176B-1",
         "Non"
        ],
        [
         "37",
         "030101_AN-IN00176B-1_2536",
         "10780095",
         "2536",
         "Matthieu Jotterand",
         "-",
         "030101_AN-IN00176B-1",
         "Non"
        ],
        [
         "38",
         "030101_AN-IN00176B-1_2464",
         "10780096",
         "2464",
         "Souheil Sayegh",
         "-",
         "030101_AN-IN00176B-1",
         "Non"
        ],
        [
         "39",
         "030101_AN-IN00176B-1_2516",
         "10780097",
         "2516",
         "Vincent Canonica",
         "-",
         "030101_AN-IN00176B-1",
         "Non"
        ],
        [
         "40",
         "030101_AN-IN00176B-1_2509",
         "10780098",
         "2509",
         "Jacklean Kalibala",
         "-",
         "030101_AN-IN00176B-1",
         "Non"
        ],
        [
         "41",
         "030101_AN-IN00176B-1_2401",
         "10780099",
         "2401",
         "Alexandre de Senarclens",
         "-",
         "030101_AN-IN00176B-1",
         "Non"
        ],
        [
         "42",
         "030101_AN-IN00176B-1_2449",
         "10780100",
         "2449",
         "Grégoire Carasso",
         "-",
         "030101_AN-IN00176B-1",
         "Non"
        ],
        [
         "43",
         "030101_AN-IN00176B-1_2520",
         "10780101",
         "2520",
         "Laura Mach",
         "-",
         "030101_AN-IN00176B-1",
         "Non"
        ],
        [
         "44",
         "030101_AN-IN00176B-1_2514",
         "10780102",
         "2514",
         "Laurent Seydoux",
         "-",
         "030101_AN-IN00176B-1",
         "Non"
        ],
        [
         "45",
         "030101_AN-IN00176B-1_2500",
         "10780103",
         "2500",
         "Alia Chaker Mangeat",
         "-",
         "030101_AN-IN00176B-1",
         "Non"
        ],
        [
         "46",
         "030101_AN-IN00176B-1_2422",
         "10780104",
         "2422",
         "Xavier Magnin",
         "-",
         "030101_AN-IN00176B-1",
         "Non"
        ],
        [
         "47",
         "030101_AN-IN00176B-1_2515",
         "10780105",
         "2515",
         "Geoffray Sirolli",
         "-",
         "030101_AN-IN00176B-1",
         "Non"
        ],
        [
         "48",
         "030101_AN-IN00176B-1_2436",
         "10780106",
         "2436",
         "Marjorie de Chastonay",
         "-",
         "030101_AN-IN00176B-1",
         "Non"
        ],
        [
         "49",
         "030101_AN-IN00176B-1_2380",
         "10780107",
         "2380",
         "Danièle Magnin",
         "-",
         "030101_AN-IN00176B-1",
         "Non"
        ]
       ],
       "shape": {
        "columns": 7,
        "rows": 35455
       }
      },
      "text/html": [
       "<div>\n",
       "<style scoped>\n",
       "    .dataframe tbody tr th:only-of-type {\n",
       "        vertical-align: middle;\n",
       "    }\n",
       "\n",
       "    .dataframe tbody tr th {\n",
       "        vertical-align: top;\n",
       "    }\n",
       "\n",
       "    .dataframe thead th {\n",
       "        text-align: right;\n",
       "    }\n",
       "</style>\n",
       "<table border=\"1\" class=\"dataframe\">\n",
       "  <thead>\n",
       "    <tr style=\"text-align: right;\">\n",
       "      <th></th>\n",
       "      <th>vote_external_id</th>\n",
       "      <th>vote_id</th>\n",
       "      <th>vote_person_external_id</th>\n",
       "      <th>vote_person_fullname</th>\n",
       "      <th>vote_vote_display_fr</th>\n",
       "      <th>vote_voting_external_id</th>\n",
       "      <th>vote_label</th>\n",
       "    </tr>\n",
       "  </thead>\n",
       "  <tbody>\n",
       "    <tr>\n",
       "      <th>0</th>\n",
       "      <td>030101_AN-IN00176B-1_2537</td>\n",
       "      <td>10780058</td>\n",
       "      <td>2537</td>\n",
       "      <td>Sebastian Aeschbach</td>\n",
       "      <td>-</td>\n",
       "      <td>030101_AN-IN00176B-1</td>\n",
       "      <td>Non</td>\n",
       "    </tr>\n",
       "    <tr>\n",
       "      <th>1</th>\n",
       "      <td>030101_AN-IN00176B-1_2527</td>\n",
       "      <td>10780059</td>\n",
       "      <td>2527</td>\n",
       "      <td>Leonard Ferati</td>\n",
       "      <td>-</td>\n",
       "      <td>030101_AN-IN00176B-1</td>\n",
       "      <td>Non</td>\n",
       "    </tr>\n",
       "    <tr>\n",
       "      <th>2</th>\n",
       "      <td>030101_AN-IN00176B-1_2478</td>\n",
       "      <td>10780060</td>\n",
       "      <td>2478</td>\n",
       "      <td>Jean-Pierre Pasquier</td>\n",
       "      <td>-</td>\n",
       "      <td>030101_AN-IN00176B-1</td>\n",
       "      <td>Non</td>\n",
       "    </tr>\n",
       "    <tr>\n",
       "      <th>3</th>\n",
       "      <td>030101_AN-IN00176B-1_2513</td>\n",
       "      <td>10780061</td>\n",
       "      <td>2513</td>\n",
       "      <td>Masha Alimi</td>\n",
       "      <td>-</td>\n",
       "      <td>030101_AN-IN00176B-1</td>\n",
       "      <td>Non</td>\n",
       "    </tr>\n",
       "    <tr>\n",
       "      <th>4</th>\n",
       "      <td>030101_AN-IN00176B-1_2471</td>\n",
       "      <td>10780062</td>\n",
       "      <td>2471</td>\n",
       "      <td>Joëlle Fiss</td>\n",
       "      <td>-</td>\n",
       "      <td>030101_AN-IN00176B-1</td>\n",
       "      <td>Non</td>\n",
       "    </tr>\n",
       "    <tr>\n",
       "      <th>...</th>\n",
       "      <td>...</td>\n",
       "      <td>...</td>\n",
       "      <td>...</td>\n",
       "      <td>...</td>\n",
       "      <td>...</td>\n",
       "      <td>...</td>\n",
       "      <td>...</td>\n",
       "    </tr>\n",
       "    <tr>\n",
       "      <th>35450</th>\n",
       "      <td>030208_AN-PL13397A_57</td>\n",
       "      <td>10811921</td>\n",
       "      <td>57</td>\n",
       "      <td>Jacques Jeannerat</td>\n",
       "      <td>+</td>\n",
       "      <td>030208_AN-PL13397A</td>\n",
       "      <td>Oui</td>\n",
       "    </tr>\n",
       "    <tr>\n",
       "      <th>35451</th>\n",
       "      <td>030208_AN-PL13397A_2514</td>\n",
       "      <td>10811922</td>\n",
       "      <td>2514</td>\n",
       "      <td>Laurent Seydoux</td>\n",
       "      <td>+</td>\n",
       "      <td>030208_AN-PL13397A</td>\n",
       "      <td>Oui</td>\n",
       "    </tr>\n",
       "    <tr>\n",
       "      <th>35452</th>\n",
       "      <td>030208_AN-PL13397A_2430</td>\n",
       "      <td>10811923</td>\n",
       "      <td>2430</td>\n",
       "      <td>Patricia Bidaux</td>\n",
       "      <td>+</td>\n",
       "      <td>030208_AN-PL13397A</td>\n",
       "      <td>Oui</td>\n",
       "    </tr>\n",
       "    <tr>\n",
       "      <th>35453</th>\n",
       "      <td>030208_AN-PL13397A_2531</td>\n",
       "      <td>10811924</td>\n",
       "      <td>2531</td>\n",
       "      <td>Cédric Jeanneret</td>\n",
       "      <td>+</td>\n",
       "      <td>030208_AN-PL13397A</td>\n",
       "      <td>Oui</td>\n",
       "    </tr>\n",
       "    <tr>\n",
       "      <th>35454</th>\n",
       "      <td>030208_AN-PL13397A_2515</td>\n",
       "      <td>10811925</td>\n",
       "      <td>2515</td>\n",
       "      <td>Geoffray Sirolli</td>\n",
       "      <td>+</td>\n",
       "      <td>030208_AN-PL13397A</td>\n",
       "      <td>Oui</td>\n",
       "    </tr>\n",
       "  </tbody>\n",
       "</table>\n",
       "<p>35455 rows × 7 columns</p>\n",
       "</div>"
      ],
      "text/plain": [
       "                vote_external_id   vote_id  vote_person_external_id  \\\n",
       "0      030101_AN-IN00176B-1_2537  10780058                     2537   \n",
       "1      030101_AN-IN00176B-1_2527  10780059                     2527   \n",
       "2      030101_AN-IN00176B-1_2478  10780060                     2478   \n",
       "3      030101_AN-IN00176B-1_2513  10780061                     2513   \n",
       "4      030101_AN-IN00176B-1_2471  10780062                     2471   \n",
       "...                          ...       ...                      ...   \n",
       "35450      030208_AN-PL13397A_57  10811921                       57   \n",
       "35451    030208_AN-PL13397A_2514  10811922                     2514   \n",
       "35452    030208_AN-PL13397A_2430  10811923                     2430   \n",
       "35453    030208_AN-PL13397A_2531  10811924                     2531   \n",
       "35454    030208_AN-PL13397A_2515  10811925                     2515   \n",
       "\n",
       "       vote_person_fullname vote_vote_display_fr vote_voting_external_id  \\\n",
       "0       Sebastian Aeschbach                    -    030101_AN-IN00176B-1   \n",
       "1            Leonard Ferati                    -    030101_AN-IN00176B-1   \n",
       "2      Jean-Pierre Pasquier                    -    030101_AN-IN00176B-1   \n",
       "3               Masha Alimi                    -    030101_AN-IN00176B-1   \n",
       "4               Joëlle Fiss                    -    030101_AN-IN00176B-1   \n",
       "...                     ...                  ...                     ...   \n",
       "35450     Jacques Jeannerat                    +      030208_AN-PL13397A   \n",
       "35451       Laurent Seydoux                    +      030208_AN-PL13397A   \n",
       "35452       Patricia Bidaux                    +      030208_AN-PL13397A   \n",
       "35453      Cédric Jeanneret                    +      030208_AN-PL13397A   \n",
       "35454      Geoffray Sirolli                    +      030208_AN-PL13397A   \n",
       "\n",
       "      vote_label  \n",
       "0            Non  \n",
       "1            Non  \n",
       "2            Non  \n",
       "3            Non  \n",
       "4            Non  \n",
       "...          ...  \n",
       "35450        Oui  \n",
       "35451        Oui  \n",
       "35452        Oui  \n",
       "35453        Oui  \n",
       "35454        Oui  \n",
       "\n",
       "[35455 rows x 7 columns]"
      ]
     },
     "execution_count": 13,
     "metadata": {},
     "output_type": "execute_result"
    }
   ],
   "source": [
    "clean_votes = clean_votes.drop(columns = [\"vote_body_key\", \"vote_created_local\", \"vote_vote_display_de\", \"vote_vote_display_it\", \"vote_vote\"]) \n",
    "clean_votes"
   ]
  },
  {
   "cell_type": "code",
   "execution_count": 14,
   "metadata": {},
   "outputs": [],
   "source": [
    "clean_votes.to_csv(\"outputs/clean_votes.csv\", index=False)"
   ]
  },
  {
   "cell_type": "code",
   "execution_count": null,
   "metadata": {},
   "outputs": [],
   "source": []
  },
  {
   "cell_type": "code",
   "execution_count": null,
   "metadata": {},
   "outputs": [],
   "source": []
  },
  {
   "cell_type": "code",
   "execution_count": null,
   "metadata": {},
   "outputs": [],
   "source": []
  }
 ],
 "metadata": {
  "kernelspec": {
   "display_name": "projet_pse_310",
   "language": "python",
   "name": "python3"
  },
  "language_info": {
   "codemirror_mode": {
    "name": "ipython",
    "version": 3
   },
   "file_extension": ".py",
   "mimetype": "text/x-python",
   "name": "python",
   "nbconvert_exporter": "python",
   "pygments_lexer": "ipython3",
   "version": "3.10.16"
  }
 },
 "nbformat": 4,
 "nbformat_minor": 2
}
