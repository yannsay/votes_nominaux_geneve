{
 "cells": [
  {
   "cell_type": "code",
   "execution_count": 1,
   "metadata": {},
   "outputs": [],
   "source": [
    "import pandas as pd"
   ]
  },
  {
   "cell_type": "code",
   "execution_count": 2,
   "metadata": {},
   "outputs": [],
   "source": [
    "votes = pd.read_csv(\"inputs/votes.csv\")"
   ]
  },
  {
   "cell_type": "code",
   "execution_count": 3,
   "metadata": {},
   "outputs": [
    {
     "data": {
      "text/plain": [
       "Index(['vote_body_key', 'vote_created_local', 'vote_external_id', 'vote_id',\n",
       "       'vote_person_external_id', 'vote_person_fullname', 'vote_vote',\n",
       "       'vote_vote_display_de', 'vote_vote_display_fr', 'vote_vote_display_it',\n",
       "       'vote_voting_external_id'],\n",
       "      dtype='object')"
      ]
     },
     "execution_count": 3,
     "metadata": {},
     "output_type": "execute_result"
    }
   ],
   "source": [
    "votes.columns"
   ]
  },
  {
   "cell_type": "code",
   "execution_count": 4,
   "metadata": {},
   "outputs": [
    {
     "data": {
      "application/vnd.microsoft.datawrangler.viewer.v0+json": {
       "columns": [
        {
         "name": "index",
         "rawType": "int64",
         "type": "integer"
        },
        {
         "name": "vote_external_id",
         "rawType": "object",
         "type": "string"
        },
        {
         "name": "vote_id",
         "rawType": "int64",
         "type": "integer"
        },
        {
         "name": "vote_person_external_id",
         "rawType": "int64",
         "type": "integer"
        },
        {
         "name": "vote_person_fullname",
         "rawType": "object",
         "type": "string"
        },
        {
         "name": "vote_vote",
         "rawType": "object",
         "type": "string"
        },
        {
         "name": "vote_vote_display_fr",
         "rawType": "object",
         "type": "string"
        },
        {
         "name": "vote_voting_external_id",
         "rawType": "object",
         "type": "string"
        }
       ],
       "conversionMethod": "pd.DataFrame",
       "ref": "00fbd032-260c-4a7a-b042-75d3938f79d9",
       "rows": [
        [
         "0",
         "030101_AN-IN00176B-1_2537",
         "10780058",
         "2537",
         "Sebastian Aeschbach",
         "no",
         "-",
         "030101_AN-IN00176B-1"
        ],
        [
         "1",
         "030101_AN-IN00176B-1_2527",
         "10780059",
         "2527",
         "Leonard Ferati",
         "no",
         "-",
         "030101_AN-IN00176B-1"
        ],
        [
         "2",
         "030101_AN-IN00176B-1_2478",
         "10780060",
         "2478",
         "Jean-Pierre Pasquier",
         "no",
         "-",
         "030101_AN-IN00176B-1"
        ],
        [
         "3",
         "030101_AN-IN00176B-1_2513",
         "10780061",
         "2513",
         "Masha Alimi",
         "no",
         "-",
         "030101_AN-IN00176B-1"
        ],
        [
         "4",
         "030101_AN-IN00176B-1_2471",
         "10780062",
         "2471",
         "Joëlle Fiss",
         "no",
         "-",
         "030101_AN-IN00176B-1"
        ],
        [
         "5",
         "030101_AN-IN00176B-1_2535",
         "10780063",
         "2535",
         "Léo Peterschmitt",
         "no",
         "-",
         "030101_AN-IN00176B-1"
        ],
        [
         "6",
         "030101_AN-IN00176B-1_2518",
         "10780064",
         "2518",
         "Lara Atassi",
         "no",
         "-",
         "030101_AN-IN00176B-1"
        ],
        [
         "7",
         "030101_AN-IN00176B-1_38",
         "10780065",
         "38",
         "Stéphane Florey",
         "yes",
         "+",
         "030101_AN-IN00176B-1"
        ],
        [
         "8",
         "030101_AN-IN00176B-1_2392",
         "10780066",
         "2392",
         "André Pfeffer",
         "yes",
         "+",
         "030101_AN-IN00176B-1"
        ],
        [
         "9",
         "030101_AN-IN00176B-1_2544",
         "10780067",
         "2544",
         "Darius Azarpey",
         "no",
         "-",
         "030101_AN-IN00176B-1"
        ],
        [
         "10",
         "030101_AN-IN00176B-1_2382",
         "10780068",
         "2382",
         "Christian Flury",
         "no",
         "-",
         "030101_AN-IN00176B-1"
        ],
        [
         "11",
         "030101_AN-IN00176B-1_2443",
         "10780069",
         "2443",
         "Francine de Planta",
         "no",
         "-",
         "030101_AN-IN00176B-1"
        ],
        [
         "12",
         "030101_AN-IN00176B-1_2375",
         "10780070",
         "2375",
         "François Baertschi",
         "no",
         "-",
         "030101_AN-IN00176B-1"
        ],
        [
         "13",
         "030101_AN-IN00176B-1_2542",
         "10780071",
         "2542",
         "Sami Gashi",
         "no",
         "-",
         "030101_AN-IN00176B-1"
        ],
        [
         "14",
         "030101_AN-IN00176B-1_551",
         "10780072",
         "551",
         "Charles Poncet",
         "yes",
         "+",
         "030101_AN-IN00176B-1"
        ],
        [
         "15",
         "030101_AN-IN00176B-1_2517",
         "10780073",
         "2517",
         "Stefan Balaban",
         "no",
         "-",
         "030101_AN-IN00176B-1"
        ],
        [
         "16",
         "030101_AN-IN00176B-1_2425",
         "10780074",
         "2425",
         "Adrien Genecand",
         "no",
         "-",
         "030101_AN-IN00176B-1"
        ],
        [
         "17",
         "030101_AN-IN00176B-1_2534",
         "10780075",
         "2534",
         "Julien Ramu",
         "yes",
         "+",
         "030101_AN-IN00176B-1"
        ],
        [
         "18",
         "030101_AN-IN00176B-1_2475",
         "10780076",
         "2475",
         "Dilara Bayrak",
         "no",
         "-",
         "030101_AN-IN00176B-1"
        ],
        [
         "19",
         "030101_AN-IN00176B-1_2383",
         "10780077",
         "2383",
         "Jean-Marc Guinchard",
         "no",
         "-",
         "030101_AN-IN00176B-1"
        ],
        [
         "20",
         "030101_AN-IN00176B-1_2350",
         "10780078",
         "2350",
         "Jean-Charles Rielle",
         "no",
         "-",
         "030101_AN-IN00176B-1"
        ],
        [
         "21",
         "030101_AN-IN00176B-1_2430",
         "10780079",
         "2430",
         "Patricia Bidaux",
         "no",
         "-",
         "030101_AN-IN00176B-1"
        ],
        [
         "22",
         "030101_AN-IN00176B-1_2533",
         "10780080",
         "2533",
         "Angèle-Marie Habiyakare",
         "no",
         "-",
         "030101_AN-IN00176B-1"
        ],
        [
         "23",
         "030101_AN-IN00176B-1_2421",
         "10780081",
         "2421",
         "Ana Roch",
         "no",
         "-",
         "030101_AN-IN00176B-1"
        ],
        [
         "24",
         "030101_AN-IN00176B-1_2441",
         "10780082",
         "2441",
         "Jacques Blondin",
         "no",
         "-",
         "030101_AN-IN00176B-1"
        ],
        [
         "25",
         "030101_AN-IN00176B-1_56",
         "10780083",
         "56",
         "Christo Ivanov",
         "yes",
         "+",
         "030101_AN-IN00176B-1"
        ],
        [
         "26",
         "030101_AN-IN00176B-1_2490",
         "10780084",
         "2490",
         "Philippe de Rougemont",
         "no",
         "-",
         "030101_AN-IN00176B-1"
        ],
        [
         "27",
         "030101_AN-IN00176B-1_2521",
         "10780085",
         "2521",
         "Sophie Bobillier",
         "no",
         "-",
         "030101_AN-IN00176B-1"
        ],
        [
         "28",
         "030101_AN-IN00176B-1_2512",
         "10780086",
         "2512",
         "Arber Jahija",
         "no",
         "-",
         "030101_AN-IN00176B-1"
        ],
        [
         "29",
         "030101_AN-IN00176B-1_2352",
         "10780087",
         "2352",
         "Romain de Sainte Marie",
         "no",
         "-",
         "030101_AN-IN00176B-1"
        ],
        [
         "30",
         "030101_AN-IN00176B-1_2547",
         "10780088",
         "2547",
         "Thomas Bruchez",
         "no",
         "-",
         "030101_AN-IN00176B-1"
        ],
        [
         "31",
         "030101_AN-IN00176B-1_57",
         "10780089",
         "57",
         "Jacques Jeannerat",
         "no",
         "-",
         "030101_AN-IN00176B-1"
        ],
        [
         "32",
         "030101_AN-IN00176B-1_2526",
         "10780090",
         "2526",
         "Djawed Sangdel",
         "no",
         "-",
         "030101_AN-IN00176B-1"
        ],
        [
         "33",
         "030101_AN-IN00176B-1_2461",
         "10780091",
         "2461",
         "Natacha Buffet-Desfayes",
         "no",
         "-",
         "030101_AN-IN00176B-1"
        ],
        [
         "34",
         "030101_AN-IN00176B-1_2531",
         "10780092",
         "2531",
         "Cédric Jeanneret",
         "no",
         "-",
         "030101_AN-IN00176B-1"
        ],
        [
         "35",
         "030101_AN-IN00176B-1_2503",
         "10780093",
         "2503",
         "Marc Saudan",
         "no",
         "-",
         "030101_AN-IN00176B-1"
        ],
        [
         "36",
         "030101_AN-IN00176B-1_2498",
         "10780094",
         "2498",
         "Rémy Burri",
         "no",
         "-",
         "030101_AN-IN00176B-1"
        ],
        [
         "37",
         "030101_AN-IN00176B-1_2536",
         "10780095",
         "2536",
         "Matthieu Jotterand",
         "no",
         "-",
         "030101_AN-IN00176B-1"
        ],
        [
         "38",
         "030101_AN-IN00176B-1_2464",
         "10780096",
         "2464",
         "Souheil Sayegh",
         "no",
         "-",
         "030101_AN-IN00176B-1"
        ],
        [
         "39",
         "030101_AN-IN00176B-1_2516",
         "10780097",
         "2516",
         "Vincent Canonica",
         "no",
         "-",
         "030101_AN-IN00176B-1"
        ],
        [
         "40",
         "030101_AN-IN00176B-1_2509",
         "10780098",
         "2509",
         "Jacklean Kalibala",
         "no",
         "-",
         "030101_AN-IN00176B-1"
        ],
        [
         "41",
         "030101_AN-IN00176B-1_2401",
         "10780099",
         "2401",
         "Alexandre de Senarclens",
         "no",
         "-",
         "030101_AN-IN00176B-1"
        ],
        [
         "42",
         "030101_AN-IN00176B-1_2449",
         "10780100",
         "2449",
         "Grégoire Carasso",
         "no",
         "-",
         "030101_AN-IN00176B-1"
        ],
        [
         "43",
         "030101_AN-IN00176B-1_2520",
         "10780101",
         "2520",
         "Laura Mach",
         "no",
         "-",
         "030101_AN-IN00176B-1"
        ],
        [
         "44",
         "030101_AN-IN00176B-1_2514",
         "10780102",
         "2514",
         "Laurent Seydoux",
         "no",
         "-",
         "030101_AN-IN00176B-1"
        ],
        [
         "45",
         "030101_AN-IN00176B-1_2500",
         "10780103",
         "2500",
         "Alia Chaker Mangeat",
         "no",
         "-",
         "030101_AN-IN00176B-1"
        ],
        [
         "46",
         "030101_AN-IN00176B-1_2422",
         "10780104",
         "2422",
         "Xavier Magnin",
         "no",
         "-",
         "030101_AN-IN00176B-1"
        ],
        [
         "47",
         "030101_AN-IN00176B-1_2515",
         "10780105",
         "2515",
         "Geoffray Sirolli",
         "no",
         "-",
         "030101_AN-IN00176B-1"
        ],
        [
         "48",
         "030101_AN-IN00176B-1_2436",
         "10780106",
         "2436",
         "Marjorie de Chastonay",
         "no",
         "-",
         "030101_AN-IN00176B-1"
        ],
        [
         "49",
         "030101_AN-IN00176B-1_2380",
         "10780107",
         "2380",
         "Danièle Magnin",
         "no",
         "-",
         "030101_AN-IN00176B-1"
        ]
       ],
       "shape": {
        "columns": 7,
        "rows": 35455
       }
      },
      "text/html": [
       "<div>\n",
       "<style scoped>\n",
       "    .dataframe tbody tr th:only-of-type {\n",
       "        vertical-align: middle;\n",
       "    }\n",
       "\n",
       "    .dataframe tbody tr th {\n",
       "        vertical-align: top;\n",
       "    }\n",
       "\n",
       "    .dataframe thead th {\n",
       "        text-align: right;\n",
       "    }\n",
       "</style>\n",
       "<table border=\"1\" class=\"dataframe\">\n",
       "  <thead>\n",
       "    <tr style=\"text-align: right;\">\n",
       "      <th></th>\n",
       "      <th>vote_external_id</th>\n",
       "      <th>vote_id</th>\n",
       "      <th>vote_person_external_id</th>\n",
       "      <th>vote_person_fullname</th>\n",
       "      <th>vote_vote</th>\n",
       "      <th>vote_vote_display_fr</th>\n",
       "      <th>vote_voting_external_id</th>\n",
       "    </tr>\n",
       "  </thead>\n",
       "  <tbody>\n",
       "    <tr>\n",
       "      <th>0</th>\n",
       "      <td>030101_AN-IN00176B-1_2537</td>\n",
       "      <td>10780058</td>\n",
       "      <td>2537</td>\n",
       "      <td>Sebastian Aeschbach</td>\n",
       "      <td>no</td>\n",
       "      <td>-</td>\n",
       "      <td>030101_AN-IN00176B-1</td>\n",
       "    </tr>\n",
       "    <tr>\n",
       "      <th>1</th>\n",
       "      <td>030101_AN-IN00176B-1_2527</td>\n",
       "      <td>10780059</td>\n",
       "      <td>2527</td>\n",
       "      <td>Leonard Ferati</td>\n",
       "      <td>no</td>\n",
       "      <td>-</td>\n",
       "      <td>030101_AN-IN00176B-1</td>\n",
       "    </tr>\n",
       "    <tr>\n",
       "      <th>2</th>\n",
       "      <td>030101_AN-IN00176B-1_2478</td>\n",
       "      <td>10780060</td>\n",
       "      <td>2478</td>\n",
       "      <td>Jean-Pierre Pasquier</td>\n",
       "      <td>no</td>\n",
       "      <td>-</td>\n",
       "      <td>030101_AN-IN00176B-1</td>\n",
       "    </tr>\n",
       "    <tr>\n",
       "      <th>3</th>\n",
       "      <td>030101_AN-IN00176B-1_2513</td>\n",
       "      <td>10780061</td>\n",
       "      <td>2513</td>\n",
       "      <td>Masha Alimi</td>\n",
       "      <td>no</td>\n",
       "      <td>-</td>\n",
       "      <td>030101_AN-IN00176B-1</td>\n",
       "    </tr>\n",
       "    <tr>\n",
       "      <th>4</th>\n",
       "      <td>030101_AN-IN00176B-1_2471</td>\n",
       "      <td>10780062</td>\n",
       "      <td>2471</td>\n",
       "      <td>Joëlle Fiss</td>\n",
       "      <td>no</td>\n",
       "      <td>-</td>\n",
       "      <td>030101_AN-IN00176B-1</td>\n",
       "    </tr>\n",
       "    <tr>\n",
       "      <th>...</th>\n",
       "      <td>...</td>\n",
       "      <td>...</td>\n",
       "      <td>...</td>\n",
       "      <td>...</td>\n",
       "      <td>...</td>\n",
       "      <td>...</td>\n",
       "      <td>...</td>\n",
       "    </tr>\n",
       "    <tr>\n",
       "      <th>35450</th>\n",
       "      <td>030208_AN-PL13397A_57</td>\n",
       "      <td>10811921</td>\n",
       "      <td>57</td>\n",
       "      <td>Jacques Jeannerat</td>\n",
       "      <td>yes</td>\n",
       "      <td>+</td>\n",
       "      <td>030208_AN-PL13397A</td>\n",
       "    </tr>\n",
       "    <tr>\n",
       "      <th>35451</th>\n",
       "      <td>030208_AN-PL13397A_2514</td>\n",
       "      <td>10811922</td>\n",
       "      <td>2514</td>\n",
       "      <td>Laurent Seydoux</td>\n",
       "      <td>yes</td>\n",
       "      <td>+</td>\n",
       "      <td>030208_AN-PL13397A</td>\n",
       "    </tr>\n",
       "    <tr>\n",
       "      <th>35452</th>\n",
       "      <td>030208_AN-PL13397A_2430</td>\n",
       "      <td>10811923</td>\n",
       "      <td>2430</td>\n",
       "      <td>Patricia Bidaux</td>\n",
       "      <td>yes</td>\n",
       "      <td>+</td>\n",
       "      <td>030208_AN-PL13397A</td>\n",
       "    </tr>\n",
       "    <tr>\n",
       "      <th>35453</th>\n",
       "      <td>030208_AN-PL13397A_2531</td>\n",
       "      <td>10811924</td>\n",
       "      <td>2531</td>\n",
       "      <td>Cédric Jeanneret</td>\n",
       "      <td>yes</td>\n",
       "      <td>+</td>\n",
       "      <td>030208_AN-PL13397A</td>\n",
       "    </tr>\n",
       "    <tr>\n",
       "      <th>35454</th>\n",
       "      <td>030208_AN-PL13397A_2515</td>\n",
       "      <td>10811925</td>\n",
       "      <td>2515</td>\n",
       "      <td>Geoffray Sirolli</td>\n",
       "      <td>yes</td>\n",
       "      <td>+</td>\n",
       "      <td>030208_AN-PL13397A</td>\n",
       "    </tr>\n",
       "  </tbody>\n",
       "</table>\n",
       "<p>35455 rows × 7 columns</p>\n",
       "</div>"
      ],
      "text/plain": [
       "                vote_external_id   vote_id  vote_person_external_id  \\\n",
       "0      030101_AN-IN00176B-1_2537  10780058                     2537   \n",
       "1      030101_AN-IN00176B-1_2527  10780059                     2527   \n",
       "2      030101_AN-IN00176B-1_2478  10780060                     2478   \n",
       "3      030101_AN-IN00176B-1_2513  10780061                     2513   \n",
       "4      030101_AN-IN00176B-1_2471  10780062                     2471   \n",
       "...                          ...       ...                      ...   \n",
       "35450      030208_AN-PL13397A_57  10811921                       57   \n",
       "35451    030208_AN-PL13397A_2514  10811922                     2514   \n",
       "35452    030208_AN-PL13397A_2430  10811923                     2430   \n",
       "35453    030208_AN-PL13397A_2531  10811924                     2531   \n",
       "35454    030208_AN-PL13397A_2515  10811925                     2515   \n",
       "\n",
       "       vote_person_fullname vote_vote vote_vote_display_fr  \\\n",
       "0       Sebastian Aeschbach        no                    -   \n",
       "1            Leonard Ferati        no                    -   \n",
       "2      Jean-Pierre Pasquier        no                    -   \n",
       "3               Masha Alimi        no                    -   \n",
       "4               Joëlle Fiss        no                    -   \n",
       "...                     ...       ...                  ...   \n",
       "35450     Jacques Jeannerat       yes                    +   \n",
       "35451       Laurent Seydoux       yes                    +   \n",
       "35452       Patricia Bidaux       yes                    +   \n",
       "35453      Cédric Jeanneret       yes                    +   \n",
       "35454      Geoffray Sirolli       yes                    +   \n",
       "\n",
       "      vote_voting_external_id  \n",
       "0        030101_AN-IN00176B-1  \n",
       "1        030101_AN-IN00176B-1  \n",
       "2        030101_AN-IN00176B-1  \n",
       "3        030101_AN-IN00176B-1  \n",
       "4        030101_AN-IN00176B-1  \n",
       "...                       ...  \n",
       "35450      030208_AN-PL13397A  \n",
       "35451      030208_AN-PL13397A  \n",
       "35452      030208_AN-PL13397A  \n",
       "35453      030208_AN-PL13397A  \n",
       "35454      030208_AN-PL13397A  \n",
       "\n",
       "[35455 rows x 7 columns]"
      ]
     },
     "execution_count": 4,
     "metadata": {},
     "output_type": "execute_result"
    }
   ],
   "source": [
    "clean_votes = votes.drop(columns = [\"vote_body_key\", \"vote_created_local\", \"vote_vote_display_de\", \"vote_vote_display_it\"]) \n",
    "clean_votes"
   ]
  },
  {
   "cell_type": "code",
   "execution_count": 5,
   "metadata": {},
   "outputs": [],
   "source": [
    "clean_votes.to_csv(\"outputs/clean_votes.csv\", index=False)"
   ]
  },
  {
   "cell_type": "code",
   "execution_count": null,
   "metadata": {},
   "outputs": [],
   "source": []
  },
  {
   "cell_type": "code",
   "execution_count": null,
   "metadata": {},
   "outputs": [],
   "source": []
  },
  {
   "cell_type": "code",
   "execution_count": null,
   "metadata": {},
   "outputs": [],
   "source": []
  }
 ],
 "metadata": {
  "kernelspec": {
   "display_name": "projet_pse_310",
   "language": "python",
   "name": "python3"
  },
  "language_info": {
   "codemirror_mode": {
    "name": "ipython",
    "version": 3
   },
   "file_extension": ".py",
   "mimetype": "text/x-python",
   "name": "python",
   "nbconvert_exporter": "python",
   "pygments_lexer": "ipython3",
   "version": "3.10.16"
  }
 },
 "nbformat": 4,
 "nbformat_minor": 2
}
